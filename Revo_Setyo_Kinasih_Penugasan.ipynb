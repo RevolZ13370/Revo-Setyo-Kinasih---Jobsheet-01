{
  "nbformat": 4,
  "nbformat_minor": 0,
  "metadata": {
    "colab": {
      "provenance": [],
      "authorship_tag": "ABX9TyPvn8V61zTx1uLjkXT7RHG2",
      "include_colab_link": true
    },
    "kernelspec": {
      "name": "python3",
      "display_name": "Python 3"
    },
    "language_info": {
      "name": "python"
    }
  },
  "cells": [
    {
      "cell_type": "markdown",
      "metadata": {
        "id": "view-in-github",
        "colab_type": "text"
      },
      "source": [
        "<a href=\"https://colab.research.google.com/github/RevolZ13370/Revo-Setyo-Kinasih-ALPRO/blob/Jobsheet-01/Revo_Setyo_Kinasih_Penugasan.ipynb\" target=\"_parent\"><img src=\"https://colab.research.google.com/assets/colab-badge.svg\" alt=\"Open In Colab\"/></a>"
      ]
    },
    {
      "cell_type": "markdown",
      "source": [
        "# Menghitung Volume Balok"
      ],
      "metadata": {
        "id": "9wYIYCprwvyo"
      }
    },
    {
      "cell_type": "code",
      "source": [
        "panjang = float(input(\"Masukkan panjang balok: \"))\n",
        "lebar = float(input(\"Masukkan lebar balok: \"))\n",
        "tinggi = float(input(\"Masukkan tinggi balok: \"))\n",
        "\n",
        "volume = panjang * lebar * tinggi\n",
        "\n",
        "print(\"Volume balok adalah:\", volume)"
      ],
      "metadata": {
        "id": "Ucpz1QTr03WB",
        "colab": {
          "base_uri": "https://localhost:8080/"
        },
        "outputId": "340c1fc9-b7ab-4047-a218-ae243835408d"
      },
      "execution_count": null,
      "outputs": [
        {
          "output_type": "stream",
          "name": "stdout",
          "text": [
            "Masukkan panjang balok: 12\n",
            "Masukkan lebar balok: 24\n",
            "Masukkan tinggi balok: 20\n",
            "Volume balok adalah: 5760.0\n"
          ]
        }
      ]
    },
    {
      "cell_type": "markdown",
      "source": [
        "# Konversi Waktu (Detik ke Jam:Menit:Detik)"
      ],
      "metadata": {
        "id": "lbFdr2yGQSn_"
      }
    },
    {
      "cell_type": "code",
      "source": [
        "totalwaktu = int(input(\"Masukkan waktu dalam satuan detik : \"))\n",
        "\n",
        "jam = totalwaktu // 3600\n",
        "sisa = totalwaktu % 3600\n",
        "menit = sisa // 60\n",
        "detik = sisa % 60\n",
        "\n",
        "print(\"Waktu yang telah dikonversi adalah\", jam, \"jam\", menit, \"menit\", detik, \"detik\")"
      ],
      "metadata": {
        "id": "78S4gBRPQeUj",
        "colab": {
          "base_uri": "https://localhost:8080/"
        },
        "outputId": "1d651623-2ab4-4662-98cc-0d45bc8ef022"
      },
      "execution_count": null,
      "outputs": [
        {
          "output_type": "stream",
          "name": "stdout",
          "text": [
            "Masukkan waktu dalam satuan detik : 73400\n",
            "Waktu yang diinput adalah 20 jam 23 menit 20 detik\n"
          ]
        }
      ]
    },
    {
      "cell_type": "markdown",
      "source": [
        "# Rata-rata Nilai Tiga Mata Kuliah"
      ],
      "metadata": {
        "id": "PhBbWGu9QTQz"
      }
    },
    {
      "cell_type": "code",
      "source": [
        "matkul1 = float(input(\"Masukkan nilai mata kuliah 1 : \"))\n",
        "matkul2 = float(input(\"Masukkan nilai mata kuliah 2 : \"))\n",
        "matkul3 = float(input(\"Masukkan nilai mata kuliah 3 : \"))\n",
        "\n",
        "rata2 = (matkul1 + matkul2 + matkul3) / 3\n",
        "\n",
        "print(\"Rata-rata nilai tiga mata kuliah adalah : \", rata2)"
      ],
      "metadata": {
        "id": "iV--g41gQevz",
        "colab": {
          "base_uri": "https://localhost:8080/"
        },
        "outputId": "bca7f075-026e-4165-aa5f-e03343db3d7e"
      },
      "execution_count": null,
      "outputs": [
        {
          "output_type": "stream",
          "name": "stdout",
          "text": [
            "Masukkan nilai mata kuliah 1 : 90\n",
            "Masukkan nilai mata kuliah 2 : 86\n",
            "Masukkan nilai mata kuliah 3 : 78\n",
            "Rata-rata nilai tiga mata kuliah adalah :  84.66666666666667\n"
          ]
        }
      ]
    },
    {
      "cell_type": "markdown",
      "source": [
        "# Menghitung Diskon Belanja"
      ],
      "metadata": {
        "id": "kF_Are1GQaQ1"
      }
    },
    {
      "cell_type": "code",
      "source": [
        "totalbelanja = float(input(\"Masukkan total belanja : \"))\n",
        "\n",
        "if totalbelanja >= 500000:\n",
        "  diskon = totalbelanja * 0.2\n",
        "\n",
        "elif totalbelanja >= 250000:\n",
        "  diskon = totalbelanja * 0.1\n",
        "\n",
        "else :\n",
        "  diskon = 0\n",
        "\n",
        "totalbayar = totalbelanja - diskon\n",
        "\n",
        "print(\"Total belanja yang harus dibayar adalah : \", totalbayar)\n",
        "print(\"Total diskon yang anda dapatkan adalah : \", diskon)"
      ],
      "metadata": {
        "id": "gwgloJI0QfMA",
        "colab": {
          "base_uri": "https://localhost:8080/"
        },
        "outputId": "4b104d79-6cab-48f4-813c-7b519d48f22e"
      },
      "execution_count": 10,
      "outputs": [
        {
          "output_type": "stream",
          "name": "stdout",
          "text": [
            "Masukkan total belanja : 270000\n",
            "Total belanja yang harus dibayar adalah :  243000.0\n",
            "Total diskon yang anda dapatkan adalah :  27000.0\n"
          ]
        }
      ]
    }
  ]
}